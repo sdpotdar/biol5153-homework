{
 "cells": [
  {
   "cell_type": "code",
   "execution_count": 32,
   "metadata": {},
   "outputs": [],
   "source": [
    "import os"
   ]
  },
  {
   "cell_type": "code",
   "execution_count": 12,
   "metadata": {},
   "outputs": [],
   "source": [
    "## renameing a file\n",
    "import os\n",
    "os.rename (\"/home/sushant/my_data1.txt\", \"/home/sushant/my_data.txt\")"
   ]
  },
  {
   "cell_type": "code",
   "execution_count": 24,
   "metadata": {},
   "outputs": [],
   "source": [
    "## moving it in another directory\n",
    "os.rename(\"/home/sushant/Desktop/my_data.txt\", \"/home/sushant/my_data.txt\")\n",
    "\n"
   ]
  },
  {
   "cell_type": "code",
   "execution_count": 26,
   "metadata": {},
   "outputs": [
    {
     "ename": "FileNotFoundError",
     "evalue": "[Errno 2] No such file or directory: 'home/sushant/my_data.txt' -> '/home/sushant/Documents/my_data.txt'",
     "output_type": "error",
     "traceback": [
      "\u001b[0;31m---------------------------------------------------------------------------\u001b[0m",
      "\u001b[0;31mFileNotFoundError\u001b[0m                         Traceback (most recent call last)",
      "\u001b[0;32m<ipython-input-26-063de9e4b1b8>\u001b[0m in \u001b[0;36m<module>\u001b[0;34m\u001b[0m\n\u001b[1;32m      1\u001b[0m \u001b[0;31m## renaming and moving it in another directory\u001b[0m\u001b[0;34m\u001b[0m\u001b[0;34m\u001b[0m\u001b[0;34m\u001b[0m\u001b[0m\n\u001b[0;32m----> 2\u001b[0;31m \u001b[0mos\u001b[0m\u001b[0;34m.\u001b[0m\u001b[0mrename\u001b[0m\u001b[0;34m(\u001b[0m\u001b[0;34m\"home/sushant/my_data.txt\"\u001b[0m\u001b[0;34m,\u001b[0m \u001b[0;34m\"/home/sushant/Documents/my_data.txt\"\u001b[0m\u001b[0;34m)\u001b[0m\u001b[0;34m\u001b[0m\u001b[0;34m\u001b[0m\u001b[0m\n\u001b[0m",
      "\u001b[0;31mFileNotFoundError\u001b[0m: [Errno 2] No such file or directory: 'home/sushant/my_data.txt' -> '/home/sushant/Documents/my_data.txt'"
     ]
    }
   ],
   "source": [
    "## renaming and moving it in another directory\n",
    "os.rename(\"home/sushant/my_data.txt\", \"/home/sushant/Documents/my_data.txt\")"
   ]
  },
  {
   "cell_type": "code",
   "execution_count": 27,
   "metadata": {},
   "outputs": [],
   "source": [
    "## renaming a folder\n",
    "os.rename(\"/home/sushant/Documents/misc\", \"/home/sushant/Documents/Misc\")"
   ]
  },
  {
   "cell_type": "code",
   "execution_count": 28,
   "metadata": {},
   "outputs": [],
   "source": [
    "## renaming it back to the original\n",
    "os.rename(\"/home/sushant/Documents/Misc\", \"/home/sushant/Documents/misc\")"
   ]
  },
  {
   "cell_type": "code",
   "execution_count": 29,
   "metadata": {},
   "outputs": [],
   "source": [
    "## create a folder\n",
    "os.mkdir(\"/home/sushant/python\")"
   ]
  },
  {
   "cell_type": "code",
   "execution_count": 30,
   "metadata": {},
   "outputs": [
    {
     "ename": "AttributeError",
     "evalue": "module 'os' has no attribute 'mkdirs'",
     "output_type": "error",
     "traceback": [
      "\u001b[0;31m---------------------------------------------------------------------------\u001b[0m",
      "\u001b[0;31mAttributeError\u001b[0m                            Traceback (most recent call last)",
      "\u001b[0;32m<ipython-input-30-62fff27b32b4>\u001b[0m in \u001b[0;36m<module>\u001b[0;34m\u001b[0m\n\u001b[1;32m      1\u001b[0m \u001b[0;31m## create multiple directories\u001b[0m\u001b[0;34m\u001b[0m\u001b[0;34m\u001b[0m\u001b[0;34m\u001b[0m\u001b[0m\n\u001b[0;32m----> 2\u001b[0;31m \u001b[0mos\u001b[0m\u001b[0;34m.\u001b[0m\u001b[0mmkdirs\u001b[0m\u001b[0;34m(\u001b[0m\u001b[0;34m\"/home/sushant/python/data/scripts/exe\"\u001b[0m\u001b[0;34m)\u001b[0m\u001b[0;34m\u001b[0m\u001b[0;34m\u001b[0m\u001b[0m\n\u001b[0m",
      "\u001b[0;31mAttributeError\u001b[0m: module 'os' has no attribute 'mkdirs'"
     ]
    }
   ],
   "source": [
    "## create multiple directories\n",
    "os.mkdirs(\"/home/sushant/python/data/scripts/exe\")"
   ]
  },
  {
   "cell_type": "code",
   "execution_count": 41,
   "metadata": {},
   "outputs": [
    {
     "data": {
      "text/plain": [
       "'/home/sushant/my_data1.txt'"
      ]
     },
     "execution_count": 41,
     "metadata": {},
     "output_type": "execute_result"
    }
   ],
   "source": [
    "## copy a file within or across directories\n",
    "import shutil, sys\n",
    "shutil.copy(\"/home/sushant/my_data.txt\", \"/home/sushant/my_data1.txt\")"
   ]
  },
  {
   "cell_type": "code",
   "execution_count": 46,
   "metadata": {},
   "outputs": [
    {
     "data": {
      "text/plain": [
       "'/home/sushant/Desktop/python'"
      ]
     },
     "execution_count": 46,
     "metadata": {},
     "output_type": "execute_result"
    }
   ],
   "source": [
    "## copy a directory in another directory\n",
    "shutil.copytree(\"/home/sushant/python\", \"/home/sushant/Desktop/python\")"
   ]
  },
  {
   "cell_type": "code",
   "execution_count": 44,
   "metadata": {},
   "outputs": [
    {
     "name": "stdout",
     "output_type": "stream",
     "text": [
      "Python exists\n"
     ]
    }
   ],
   "source": [
    "if os.path.exists(\"/home/sushant/python\"):\n",
    "    print(\"Python exists\")"
   ]
  },
  {
   "cell_type": "code",
   "execution_count": 45,
   "metadata": {},
   "outputs": [],
   "source": [
    "## Deleting files\n",
    "os.remove(\"/home/sushant/my_data1.txt\")"
   ]
  },
  {
   "cell_type": "code",
   "execution_count": 47,
   "metadata": {},
   "outputs": [],
   "source": [
    "## Deleting an empty folder\n",
    "os.rmdir(\"/home/sushant/Desktop/python\")"
   ]
  },
  {
   "cell_type": "code",
   "execution_count": 48,
   "metadata": {},
   "outputs": [],
   "source": [
    "## Deleting an entire folder with contents in it\n",
    "shutil.rmtree(\"/home/sushant/Desktop/looptest\")"
   ]
  },
  {
   "cell_type": "code",
   "execution_count": 49,
   "metadata": {},
   "outputs": [
    {
     "name": "stdout",
     "output_type": "stream",
     "text": [
      "one file name is .jupyter\n",
      "one file name is Untitled2.ipynb\n",
      "one file name is suffix.txt\n",
      "one file name is .gitconfig\n",
      "one file name is .pki\n",
      "one file name is R\n",
      "one file name is .condarc\n",
      "one file name is .PlayOnLinux\n",
      "one file name is .apport-ignore.xml\n",
      "one file name is Pictures\n",
      "one file name is .mozilla\n",
      "one file name is .nvidia-settings-rc\n",
      "one file name is Templates\n",
      "one file name is examples.desktop\n",
      "one file name is Untitled1.ipynb\n",
      "one file name is Untitled.ipynb\n",
      "one file name is python\n",
      "one file name is nad_genes.fasta\n",
      "one file name is .fgfs\n",
      "one file name is Downloads\n",
      "one file name is .cups\n",
      "one file name is .gwakeonlan\n",
      "one file name is Music\n",
      "one file name is oceanview\n",
      "one file name is .ssh\n",
      "one file name is .lesshst\n",
      "one file name is .bashrc\n",
      "one file name is blood_on_the_tracks.txt\n",
      "one file name is .gnome\n",
      "one file name is .ipynb_checkpoints\n",
      "one file name is out.txt\n",
      "one file name is parse_shaver.py\n",
      "one file name is .ICEauthority\n",
      "one file name is .sudo_as_admin_successful\n",
      "one file name is .java\n",
      "one file name is PlayOnLinux's virtual drives\n",
      "one file name is Public\n",
      "one file name is .config\n",
      "one file name is Untitled3.ipynb\n",
      "one file name is bin\n",
      "one file name is my_data.txt\n",
      "one file name is .prof\n",
      "one file name is .bash_history\n",
      "one file name is Desktop\n",
      "one file name is local\n",
      "one file name is .fontconfig\n",
      "one file name is opt\n",
      "one file name is .thunderbird\n",
      "one file name is .local\n",
      "one file name is Videos\n",
      "one file name is .conda\n",
      "one file name is snap\n",
      "one file name is .gconf\n",
      "one file name is .python_history\n",
      "one file name is .ipython\n",
      "one file name is .bash_logout\n",
      "one file name is nad_genes.fa\n",
      "one file name is .cache\n",
      "one file name is .Rhistory\n",
      "one file name is sequence_length.txt\n",
      "one file name is dna.txt\n",
      "one file name is .viminfo\n",
      "one file name is .gnupg\n",
      "one file name is .profile\n",
      "one file name is .swp\n",
      "one file name is Documents\n",
      "one file name is .rstudio-desktop\n",
      "one file name is .xinputrc\n"
     ]
    }
   ],
   "source": [
    "## get a list of contents in the current working directory\n",
    "for file_name in os.listdir(\".\"):\n",
    "    print(\"one file name is \" + file_name)"
   ]
  },
  {
   "cell_type": "code",
   "execution_count": 50,
   "metadata": {},
   "outputs": [
    {
     "name": "stdout",
     "output_type": "stream",
     "text": [
      ".~lock.behavior-change_datasheet.odg# is a file in Documents\n",
      "r_practice is a file in Documents\n",
      "misc is a file in Documents\n",
      "manuscript_canidia is a file in Documents\n",
      "Sushant DeepakPotdar_Tax_2019.pdf is a file in Documents\n",
      "uark is a file in Documents\n",
      "2019_AR1000F_FullYearResidentIndividualIncomeTaxReturn.pdf is a file in Documents\n",
      "agumbe is a file in Documents\n"
     ]
    }
   ],
   "source": [
    "# List the contents of the different folder\n",
    "for file_name in os.listdir(\"/home/sushant/Documents\"):\n",
    "    print(file_name + \" is a file in Documents\")"
   ]
  },
  {
   "cell_type": "code",
   "execution_count": 64,
   "metadata": {},
   "outputs": [
    {
     "data": {
      "text/plain": [
       "0"
      ]
     },
     "execution_count": 64,
     "metadata": {},
     "output_type": "execute_result"
    }
   ],
   "source": [
    "## Running other executables within python\n",
    "import subprocess\n",
    "subprocess.call(['date'])"
   ]
  },
  {
   "cell_type": "code",
   "execution_count": 65,
   "metadata": {},
   "outputs": [
    {
     "data": {
      "text/plain": [
       "0"
      ]
     },
     "execution_count": 65,
     "metadata": {},
     "output_type": "execute_result"
    }
   ],
   "source": [
    "subprocess.call(\"/bin/date +%B\", shell=True)"
   ]
  },
  {
   "cell_type": "code",
   "execution_count": 66,
   "metadata": {},
   "outputs": [],
   "source": [
    "current_month = subprocess.check_output(\"/bin/date +%B\", shell=True)"
   ]
  },
  {
   "cell_type": "code",
   "execution_count": 68,
   "metadata": {},
   "outputs": [
    {
     "name": "stdout",
     "output_type": "stream",
     "text": [
      "Enter the accession name I am at the greenhouse right now\n"
     ]
    }
   ],
   "source": [
    "accession = input(\"Enter the accession name\")\n",
    "# do something with the accession variable"
   ]
  },
  {
   "cell_type": "code",
   "execution_count": 71,
   "metadata": {},
   "outputs": [
    {
     "name": "stdout",
     "output_type": "stream",
     "text": [
      "['/home/sushant/.local/lib/python3.6/site-packages/ipykernel_launcher.py', '-f', '/home/sushant/.local/share/jupyter/runtime/kernel-48107609-9f3d-42bd-be57-39d492482750.json']\n"
     ]
    }
   ],
   "source": [
    "## Using command line arguments\n",
    "\n",
    "import sys\n",
    "print(sys.argv)"
   ]
  },
  {
   "cell_type": "code",
   "execution_count": null,
   "metadata": {},
   "outputs": [],
   "source": []
  }
 ],
 "metadata": {
  "kernelspec": {
   "display_name": "Python 3",
   "language": "python",
   "name": "python3"
  },
  "language_info": {
   "codemirror_mode": {
    "name": "ipython",
    "version": 3
   },
   "file_extension": ".py",
   "mimetype": "text/x-python",
   "name": "python",
   "nbconvert_exporter": "python",
   "pygments_lexer": "ipython3",
   "version": "3.6.9"
  }
 },
 "nbformat": 4,
 "nbformat_minor": 4
}
