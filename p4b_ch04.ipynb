{
 "cells": [
  {
   "cell_type": "code",
   "execution_count": 14,
   "metadata": {},
   "outputs": [
    {
     "name": "stdout",
     "output_type": "stream",
     "text": [
      "Homo sapiens\n"
     ]
    }
   ],
   "source": [
    "apes = [\"Homo sapiens\", \"Pan troglodytes\", \"Gorilla gorilla\"]\n",
    "conserved_sites = [24,56,132]\n",
    "print(apes[0])\n",
    "first_site = conserved_sites[2]\n",
    "#Figuring out the index of an element\n",
    "chimp_index = apes.index(\"Pan troglodytes\")\n",
    "#Getting the last element from the list\n",
    "last_ape = apes[-1]"
   ]
  },
  {
   "cell_type": "code",
   "execution_count": 8,
   "metadata": {},
   "outputs": [],
   "source": [
    "#extract range of elements from a list\n",
    "ranks = [\"kingdom\", \"phylum\", \"order\", \"class\", \"family\"]\n",
    "lower_ranks = ranks[2:5]\n"
   ]
  },
  {
   "cell_type": "code",
   "execution_count": 15,
   "metadata": {},
   "outputs": [
    {
     "name": "stdout",
     "output_type": "stream",
     "text": [
      "There are 4 apes\n"
     ]
    }
   ],
   "source": [
    "#Add another element to an existing list\n",
    "apes.append(\"Pan paniscus\")\n",
    "#print number of apes\n",
    "print(\"There are \" + str(len(apes)) + \" apes\")"
   ]
  },
  {
   "cell_type": "code",
   "execution_count": 18,
   "metadata": {},
   "outputs": [
    {
     "name": "stdout",
     "output_type": "stream",
     "text": [
      "4 apes\n",
      "2 monkeys\n",
      "6 primates\n"
     ]
    }
   ],
   "source": [
    "#concatenate two lists\n",
    "monkeys = [\"Macaca silensis\", \"Macaca macaca\"]\n",
    "primates = apes + monkeys\n",
    "print(str(len(apes)) + \" apes\")\n",
    "print(str(len(monkeys))+ \" monkeys\")\n",
    "print(str(len(primates)) + \" primates\")\n"
   ]
  },
  {
   "cell_type": "code",
   "execution_count": 24,
   "metadata": {},
   "outputs": [
    {
     "name": "stdout",
     "output_type": "stream",
     "text": [
      "At the start : ['class', 'family', 'kingdom', 'order', 'phylum']\n",
      "After reversing : ['phylum', 'order', 'kingdom', 'family', 'class']\n",
      "After sorting : ['class', 'family', 'kingdom', 'order', 'phylum']\n"
     ]
    }
   ],
   "source": [
    "#reversing the order of the list\n",
    "print(\"At the start : \" + str(ranks))\n",
    "ranks.reverse()\n",
    "print(\"After reversing : \" + str(ranks))\n",
    "ranks.sort()\n",
    "print(\"After sorting : \" + str(ranks))"
   ]
  },
  {
   "cell_type": "code",
   "execution_count": 25,
   "metadata": {},
   "outputs": [
    {
     "name": "stdout",
     "output_type": "stream",
     "text": [
      "Homo sapiens is an ape\n",
      "Pan troglodytes is an ape\n",
      "Gorilla gorilla is an ape\n",
      "Pan paniscus is an ape\n"
     ]
    }
   ],
   "source": [
    "#printing each element seperately\n",
    "print(apes[0] + \" is an ape\")\n",
    "print(apes[1] + \" is an ape\")\n",
    "print(apes[2] + \" is an ape\")\n",
    "print(apes[3] + \" is an ape\")"
   ]
  },
  {
   "cell_type": "code",
   "execution_count": 26,
   "metadata": {},
   "outputs": [
    {
     "name": "stdout",
     "output_type": "stream",
     "text": [
      "Homo sapiens is an ape\n",
      "Pan troglodytes is an ape\n",
      "Gorilla gorilla is an ape\n",
      "Pan paniscus is an ape\n"
     ]
    }
   ],
   "source": [
    "#Using loop to get the same above output\n",
    "for ape in apes:\n",
    "    print(ape + \" is an ape\")"
   ]
  },
  {
   "cell_type": "code",
   "execution_count": 27,
   "metadata": {},
   "outputs": [
    {
     "name": "stdout",
     "output_type": "stream",
     "text": [
      "Homo sapiens is an ape. Its name starts with H\n",
      "Its name has 12 letters\n",
      "Pan troglodytes is an ape. Its name starts with P\n",
      "Its name has 15 letters\n",
      "Gorilla gorilla is an ape. Its name starts with G\n",
      "Its name has 15 letters\n",
      "Pan paniscus is an ape. Its name starts with P\n",
      "Its name has 12 letters\n"
     ]
    }
   ],
   "source": [
    "#A bigger loop body example\n",
    "for ape in apes:\n",
    "    name_length = len(ape)\n",
    "    first_letter = ape[0]\n",
    "    print(ape + \" is an ape. Its name starts with \"+ first_letter)\n",
    "    print(\"Its name has \" + str(name_length) + \" letters\")"
   ]
  },
  {
   "cell_type": "code",
   "execution_count": 28,
   "metadata": {},
   "outputs": [
    {
     "ename": "IndentationError",
     "evalue": "unexpected indent (<ipython-input-28-dc1fd417bd62>, line 6)",
     "output_type": "error",
     "traceback": [
      "\u001b[0;36m  File \u001b[0;32m\"<ipython-input-28-dc1fd417bd62>\"\u001b[0;36m, line \u001b[0;32m6\u001b[0m\n\u001b[0;31m    print(\"Its name has \" + str(name_length) + \" letters\")\u001b[0m\n\u001b[0m    ^\u001b[0m\n\u001b[0;31mIndentationError\u001b[0m\u001b[0;31m:\u001b[0m unexpected indent\n"
     ]
    }
   ],
   "source": [
    "#Getting an indentation error\n",
    "for ape in apes:\n",
    "    name_length = len(ape)\n",
    "    first_letter = ape[0]\n",
    "print(ape + \" is an ape. Its name starts with \"+ first_letter)\n",
    "    print(\"Its name has \" + str(name_length) + \" letters\")"
   ]
  },
  {
   "cell_type": "code",
   "execution_count": 35,
   "metadata": {},
   "outputs": [
    {
     "name": "stdout",
     "output_type": "stream",
     "text": [
      "one character is s\n",
      "one character is u\n",
      "one character is s\n",
      "one character is h\n",
      "one character is a\n",
      "one character is n\n",
      "one character is t\n"
     ]
    }
   ],
   "source": [
    "name = \"sushant\"\n",
    "for character in name:\n",
    "    print(\"one character is \" + character)"
   ]
  },
  {
   "cell_type": "code",
   "execution_count": 38,
   "metadata": {},
   "outputs": [
    {
     "name": "stdout",
     "output_type": "stream",
     "text": [
      "['sara', 'cydno', 'hewitsoni', 'charithonia', 'melpomene', 'erato']\n"
     ]
    }
   ],
   "source": [
    "heliconius = \"sara,cydno,hewitsoni,charithonia,melpomene,erato\"\n",
    "species = heliconius.split(\",\")\n",
    "print(str(species))"
   ]
  },
  {
   "cell_type": "code",
   "execution_count": 42,
   "metadata": {},
   "outputs": [
    {
     "name": "stdout",
     "output_type": "stream",
     "text": [
      "vls\n",
      "vlsp\n",
      "vlspa\n",
      "vlspad\n",
      "vlspadk\n",
      "vlspadkt\n",
      "vlspadktn\n",
      "vlspadktnv\n"
     ]
    }
   ],
   "source": [
    "protein = \"vlspadktnv\"\n",
    "#iterate characters+1 on each new line starting with 3 characters\n",
    "stop_positions = [3,4,5,6,7,8,9,10]\n",
    "for stop in stop_positions:\n",
    "    substring = protein[0:stop]\n",
    "    print(substring)"
   ]
  },
  {
   "cell_type": "code",
   "execution_count": 48,
   "metadata": {},
   "outputs": [
    {
     "name": "stdout",
     "output_type": "stream",
     "text": [
      "0\n",
      "1\n",
      "2\n",
      "3\n",
      "4\n",
      "5\n",
      "6\n",
      "7\n"
     ]
    }
   ],
   "source": [
    "#using range\n",
    "for number in range(8):\n",
    "    print(number)"
   ]
  },
  {
   "cell_type": "code",
   "execution_count": 49,
   "metadata": {},
   "outputs": [
    {
     "name": "stdout",
     "output_type": "stream",
     "text": [
      "3\n",
      "4\n",
      "5\n",
      "6\n",
      "7\n",
      "8\n",
      "9\n"
     ]
    }
   ],
   "source": [
    "for number in range(3,10):\n",
    "    print(number)"
   ]
  },
  {
   "cell_type": "code",
   "execution_count": 50,
   "metadata": {},
   "outputs": [
    {
     "name": "stdout",
     "output_type": "stream",
     "text": [
      "5\n",
      "8\n",
      "11\n",
      "14\n",
      "17\n",
      "20\n"
     ]
    }
   ],
   "source": [
    "for number in range(5,22,3):\n",
    "    print(number)"
   ]
  }
 ],
 "metadata": {
  "kernelspec": {
   "display_name": "Python 3",
   "language": "python",
   "name": "python3"
  },
  "language_info": {
   "codemirror_mode": {
    "name": "ipython",
    "version": 3
   },
   "file_extension": ".py",
   "mimetype": "text/x-python",
   "name": "python",
   "nbconvert_exporter": "python",
   "pygments_lexer": "ipython3",
   "version": "3.6.9"
  }
 },
 "nbformat": 4,
 "nbformat_minor": 4
}
